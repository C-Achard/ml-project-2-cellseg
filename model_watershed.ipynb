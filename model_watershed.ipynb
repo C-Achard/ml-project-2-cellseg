{
 "cells": [
  {
   "attachments": {},
   "cell_type": "markdown",
   "metadata": {},
   "source": [
    "Basic model using the watershed_algorithm and a threshold"
   ]
  },
  {
   "cell_type": "code",
   "execution_count": 26,
   "metadata": {},
   "outputs": [
    {
     "name": "stdout",
     "output_type": "stream",
     "text": [
      "The autoreload extension is already loaded. To reload it, use:\n",
      "  %reload_ext autoreload\n"
     ]
    }
   ],
   "source": [
    "import label.make_artefact_labels as lab\n",
    "import evaluate_model_performance as perf\n",
    "from tifffile import imread\n",
    "%load_ext autoreload\n",
    "%autoreload 2"
   ]
  },
  {
   "cell_type": "code",
   "execution_count": 35,
   "metadata": {},
   "outputs": [],
   "source": [
    "path_im = \"dataset_clean/VALIDATION/validation_image.tif\"\n",
    "path_out=\"results/watershed_based_model/instance_labels.tif\"\n",
    "lab.make_labels(path_image=path_im,path_labels_out=path_out,threshold_factor=2,augment_contrast_factor=3,)"
   ]
  },
  {
   "cell_type": "code",
   "execution_count": 36,
   "metadata": {},
   "outputs": [
    {
     "name": "stdout",
     "output_type": "stream",
     "text": [
      "Neurons found:  82\n",
      "Neurons fused:  14\n",
      "Neurons not found:  13\n",
      "Artefacts found:  0\n",
      "Mean true positive ratio of the model:  0.9352442341577689\n",
      "Mean ratio of the neurons pixels correctly labelled:  0.8121395469508269\n",
      "Mean ratio of the neurons pixels correctly labelled for fused neurons:  0.889809108267318\n",
      "Mean true positive ratio of the model for fused neurons:  0.8950815156593801\n",
      "Mean ratio of false pixel in artefacts:  nan\n"
     ]
    },
    {
     "data": {
      "text/plain": [
       "(82,\n",
       " 14,\n",
       " 13,\n",
       " 0,\n",
       " 0.9352442341577689,\n",
       " 0.8121395469508269,\n",
       " 0.889809108267318,\n",
       " 0.8950815156593801,\n",
       " nan)"
      ]
     },
     "execution_count": 36,
     "metadata": {},
     "output_type": "execute_result"
    }
   ],
   "source": [
    "path_true_labels = \"dataset_clean/VALIDATION/validation_labels.tif\"\n",
    "perf.evaluate_model_performance(imread(path_true_labels),imread(path_out))"
   ]
  }
 ],
 "metadata": {
  "kernelspec": {
   "display_name": "Python 3",
   "language": "python",
   "name": "python3"
  },
  "language_info": {
   "codemirror_mode": {
    "name": "ipython",
    "version": 3
   },
   "file_extension": ".py",
   "mimetype": "text/x-python",
   "name": "python",
   "nbconvert_exporter": "python",
   "pygments_lexer": "ipython3",
   "version": "3.8.15"
  },
  "orig_nbformat": 4,
  "vscode": {
   "interpreter": {
    "hash": "18e1deef659882ad12ee34364eeed819f7e5087d805315dbc0770e8765510015"
   }
  }
 },
 "nbformat": 4,
 "nbformat_minor": 2
}
