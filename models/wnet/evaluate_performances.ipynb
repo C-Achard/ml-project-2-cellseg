{
 "cells": [
  {
   "cell_type": "code",
   "execution_count": 1,
   "metadata": {},
   "outputs": [],
   "source": [
    "import tifffile as tiff\n",
    "import sys\n",
    "\n",
    "sys.path.append(\"../..\")\n",
    "import evaluate_model_performance as perf"
   ]
  },
  {
   "cell_type": "code",
   "execution_count": 2,
   "metadata": {},
   "outputs": [],
   "source": [
    "models_label_1=tiff.imread(r\"../../results/self supervised/original_1_instance.tif\")\n",
    "models_label_2=tiff.imread(r\"../../results/self supervised/original_2_instance.tif\")\n",
    "path_true_labels_1=r\"../../dataset_clean/cropped_visual/val/labels/crop_lab_val_new_label.tif\"\n",
    "path_true_labels_2=r\"../../dataset_clean/cropped_visual/val/labels/crop_lab_val2_new_label.tif\""
   ]
  },
  {
   "cell_type": "code",
   "execution_count": 3,
   "metadata": {},
   "outputs": [
    {
     "name": "stdout",
     "output_type": "stream",
     "text": [
      "Neurons found:  25\n",
      "Neurons fused:  4\n",
      "Neurons not found:  2\n",
      "Artefacts found:  3\n",
      "Mean true positive ratio of the model:  0.930130243165642\n",
      "Mean ratio of the neurons pixels correctly labelled:  0.6744774090519761\n",
      "Mean ratio of the neurons pixels correctly labelled for fused neurons:  0.6742840423268688\n",
      "Mean true positive ratio of the model for fused neurons:  0.9512014289084353\n",
      "Mean ratio of false pixel in artefacts:  1.0\n"
     ]
    },
    {
     "data": {
      "text/plain": [
       "(25,\n",
       " 4,\n",
       " 2,\n",
       " 3,\n",
       " 0.930130243165642,\n",
       " 0.6744774090519761,\n",
       " 0.6742840423268688,\n",
       " 0.9512014289084353,\n",
       " 1.0)"
      ]
     },
     "execution_count": 3,
     "metadata": {},
     "output_type": "execute_result"
    }
   ],
   "source": [
    "perf.evaluate_model_performance(tiff.imread(path_true_labels_1),models_label_1)"
   ]
  },
  {
   "cell_type": "code",
   "execution_count": 4,
   "metadata": {},
   "outputs": [
    {
     "name": "stdout",
     "output_type": "stream",
     "text": [
      "Neurons found:  30\n",
      "Neurons fused:  2\n",
      "Neurons not found:  12\n",
      "Artefacts found:  18\n",
      "Mean true positive ratio of the model:  0.8711392064222789\n",
      "Mean ratio of the neurons pixels correctly labelled:  0.7292520639756664\n",
      "Mean ratio of the neurons pixels correctly labelled for fused neurons:  0.6906919779546846\n",
      "Mean true positive ratio of the model for fused neurons:  0.7560975609756098\n",
      "Mean ratio of false pixel in artefacts:  0.9782608695652174\n"
     ]
    },
    {
     "data": {
      "text/plain": [
       "(30,\n",
       " 2,\n",
       " 12,\n",
       " 18,\n",
       " 0.8711392064222789,\n",
       " 0.7292520639756664,\n",
       " 0.6906919779546846,\n",
       " 0.7560975609756098,\n",
       " 0.9782608695652174)"
      ]
     },
     "execution_count": 4,
     "metadata": {},
     "output_type": "execute_result"
    }
   ],
   "source": [
    "perf.evaluate_model_performance(tiff.imread(path_true_labels_2),models_label_2)"
   ]
  }
 ],
 "metadata": {
  "kernelspec": {
   "display_name": "Python 3",
   "language": "python",
   "name": "python3"
  },
  "language_info": {
   "codemirror_mode": {
    "name": "ipython",
    "version": 3
   },
   "file_extension": ".py",
   "mimetype": "text/x-python",
   "name": "python",
   "nbconvert_exporter": "python",
   "pygments_lexer": "ipython3",
   "version": "3.8.15"
  },
  "orig_nbformat": 4,
  "vscode": {
   "interpreter": {
    "hash": "18e1deef659882ad12ee34364eeed819f7e5087d805315dbc0770e8765510015"
   }
  }
 },
 "nbformat": 4,
 "nbformat_minor": 2
}
