{
 "cells": [
  {
   "cell_type": "code",
   "execution_count": 1,
   "metadata": {},
   "outputs": [],
   "source": [
    "import tifffile as tiff\n",
    "import sys\n",
    "\n",
    "sys.path.append(\"../..\")\n",
    "import evaluate_model_performance as perf"
   ]
  },
  {
   "cell_type": "code",
   "execution_count": 2,
   "metadata": {},
   "outputs": [
    {
     "ename": "FileNotFoundError",
     "evalue": "[Errno 2] No such file or directory: 'C:\\\\Users\\\\Cyril\\\\Desktop\\\\Code\\\\ml-project-2-cellseg\\\\results\\\\self supervised\\\\original_1_instance.tif'",
     "output_type": "error",
     "traceback": [
      "\u001B[1;31m---------------------------------------------------------------------------\u001B[0m",
      "\u001B[1;31mFileNotFoundError\u001B[0m                         Traceback (most recent call last)",
      "Input \u001B[1;32mIn [2]\u001B[0m, in \u001B[0;36m<cell line: 1>\u001B[1;34m()\u001B[0m\n\u001B[1;32m----> 1\u001B[0m models_label_1\u001B[38;5;241m=\u001B[39m\u001B[43mtiff\u001B[49m\u001B[38;5;241;43m.\u001B[39;49m\u001B[43mimread\u001B[49m\u001B[43m(\u001B[49m\u001B[38;5;124;43mr\u001B[39;49m\u001B[38;5;124;43m\"\u001B[39;49m\u001B[38;5;124;43m../../results/self supervised/original_1_instance.tif\u001B[39;49m\u001B[38;5;124;43m\"\u001B[39;49m\u001B[43m)\u001B[49m\n\u001B[0;32m      2\u001B[0m models_label_2\u001B[38;5;241m=\u001B[39mtiff\u001B[38;5;241m.\u001B[39mimread(\u001B[38;5;124mr\u001B[39m\u001B[38;5;124m\"\u001B[39m\u001B[38;5;124m../../results/self supervised/original_2_instance.tif\u001B[39m\u001B[38;5;124m\"\u001B[39m)\n\u001B[0;32m      3\u001B[0m path_true_labels_1\u001B[38;5;241m=\u001B[39m\u001B[38;5;124mr\u001B[39m\u001B[38;5;124m\"\u001B[39m\u001B[38;5;124m../../dataset_clean/cropped_visual/val/labels/crop_lab_val_new_label.tif\u001B[39m\u001B[38;5;124m\"\u001B[39m\n",
      "File \u001B[1;32m~\\anaconda3\\envs\\cellseg3d\\lib\\site-packages\\tifffile\\tifffile.py:973\u001B[0m, in \u001B[0;36mimread\u001B[1;34m(files, aszarr, key, series, level, squeeze, maxworkers, name, offset, size, pattern, axesorder, categories, imread, sort, container, axestiled, ioworkers, chunkmode, fillvalue, zattrs, _multifile, _useframes, **kwargs)\u001B[0m\n\u001B[0;32m    968\u001B[0m     files \u001B[38;5;241m=\u001B[39m files[\u001B[38;5;241m0\u001B[39m]\n\u001B[0;32m    970\u001B[0m \u001B[38;5;28;01mif\u001B[39;00m \u001B[38;5;28misinstance\u001B[39m(files, \u001B[38;5;28mstr\u001B[39m) \u001B[38;5;129;01mor\u001B[39;00m \u001B[38;5;129;01mnot\u001B[39;00m \u001B[38;5;28misinstance\u001B[39m(\n\u001B[0;32m    971\u001B[0m     files, collections\u001B[38;5;241m.\u001B[39mabc\u001B[38;5;241m.\u001B[39mSequence\n\u001B[0;32m    972\u001B[0m ):\n\u001B[1;32m--> 973\u001B[0m     \u001B[38;5;28;01mwith\u001B[39;00m \u001B[43mTiffFile\u001B[49m\u001B[43m(\u001B[49m\n\u001B[0;32m    974\u001B[0m \u001B[43m        \u001B[49m\u001B[43mfiles\u001B[49m\u001B[43m,\u001B[49m\n\u001B[0;32m    975\u001B[0m \u001B[43m        \u001B[49m\u001B[43mname\u001B[49m\u001B[38;5;241;43m=\u001B[39;49m\u001B[43mname\u001B[49m\u001B[43m,\u001B[49m\n\u001B[0;32m    976\u001B[0m \u001B[43m        \u001B[49m\u001B[43moffset\u001B[49m\u001B[38;5;241;43m=\u001B[39;49m\u001B[43moffset\u001B[49m\u001B[43m,\u001B[49m\n\u001B[0;32m    977\u001B[0m \u001B[43m        \u001B[49m\u001B[43msize\u001B[49m\u001B[38;5;241;43m=\u001B[39;49m\u001B[43msize\u001B[49m\u001B[43m,\u001B[49m\n\u001B[0;32m    978\u001B[0m \u001B[43m        \u001B[49m\u001B[43m_multifile\u001B[49m\u001B[38;5;241;43m=\u001B[39;49m\u001B[43m_multifile\u001B[49m\u001B[43m,\u001B[49m\n\u001B[0;32m    979\u001B[0m \u001B[43m        \u001B[49m\u001B[43m_useframes\u001B[49m\u001B[38;5;241;43m=\u001B[39;49m\u001B[43m_useframes\u001B[49m\u001B[43m,\u001B[49m\n\u001B[0;32m    980\u001B[0m \u001B[43m        \u001B[49m\u001B[38;5;241;43m*\u001B[39;49m\u001B[38;5;241;43m*\u001B[39;49m\u001B[43mis_flags\u001B[49m\u001B[43m,\u001B[49m\n\u001B[0;32m    981\u001B[0m \u001B[43m    \u001B[49m\u001B[43m)\u001B[49m \u001B[38;5;28;01mas\u001B[39;00m tif:\n\u001B[0;32m    982\u001B[0m         \u001B[38;5;28;01mif\u001B[39;00m aszarr:\n\u001B[0;32m    983\u001B[0m             \u001B[38;5;28;01massert\u001B[39;00m key \u001B[38;5;129;01mis\u001B[39;00m \u001B[38;5;28;01mNone\u001B[39;00m \u001B[38;5;129;01mor\u001B[39;00m \u001B[38;5;28misinstance\u001B[39m(key, \u001B[38;5;28mint\u001B[39m)\n",
      "File \u001B[1;32m~\\anaconda3\\envs\\cellseg3d\\lib\\site-packages\\tifffile\\tifffile.py:3598\u001B[0m, in \u001B[0;36mTiffFile.__init__\u001B[1;34m(self, file, mode, name, offset, size, _multifile, _useframes, _parent, **kwargs)\u001B[0m\n\u001B[0;32m   3595\u001B[0m \u001B[38;5;28;01mif\u001B[39;00m mode \u001B[38;5;129;01mnot\u001B[39;00m \u001B[38;5;129;01min\u001B[39;00m (\u001B[38;5;28;01mNone\u001B[39;00m, \u001B[38;5;124m'\u001B[39m\u001B[38;5;124mrb\u001B[39m\u001B[38;5;124m'\u001B[39m, \u001B[38;5;124m'\u001B[39m\u001B[38;5;124mr+b\u001B[39m\u001B[38;5;124m'\u001B[39m):\n\u001B[0;32m   3596\u001B[0m     \u001B[38;5;28;01mraise\u001B[39;00m \u001B[38;5;167;01mValueError\u001B[39;00m(\u001B[38;5;124mf\u001B[39m\u001B[38;5;124m'\u001B[39m\u001B[38;5;124minvalid mode \u001B[39m\u001B[38;5;132;01m{\u001B[39;00mmode\u001B[38;5;132;01m!r}\u001B[39;00m\u001B[38;5;124m'\u001B[39m)\n\u001B[1;32m-> 3598\u001B[0m fh \u001B[38;5;241m=\u001B[39m \u001B[43mFileHandle\u001B[49m\u001B[43m(\u001B[49m\u001B[43mfile\u001B[49m\u001B[43m,\u001B[49m\u001B[43m \u001B[49m\u001B[43mmode\u001B[49m\u001B[38;5;241;43m=\u001B[39;49m\u001B[43mmode\u001B[49m\u001B[43m,\u001B[49m\u001B[43m \u001B[49m\u001B[43mname\u001B[49m\u001B[38;5;241;43m=\u001B[39;49m\u001B[43mname\u001B[49m\u001B[43m,\u001B[49m\u001B[43m \u001B[49m\u001B[43moffset\u001B[49m\u001B[38;5;241;43m=\u001B[39;49m\u001B[43moffset\u001B[49m\u001B[43m,\u001B[49m\u001B[43m \u001B[49m\u001B[43msize\u001B[49m\u001B[38;5;241;43m=\u001B[39;49m\u001B[43msize\u001B[49m\u001B[43m)\u001B[49m\n\u001B[0;32m   3599\u001B[0m \u001B[38;5;28mself\u001B[39m\u001B[38;5;241m.\u001B[39m_fh \u001B[38;5;241m=\u001B[39m fh\n\u001B[0;32m   3600\u001B[0m \u001B[38;5;28mself\u001B[39m\u001B[38;5;241m.\u001B[39m_multifile \u001B[38;5;241m=\u001B[39m \u001B[38;5;28;01mTrue\u001B[39;00m \u001B[38;5;28;01mif\u001B[39;00m _multifile \u001B[38;5;129;01mis\u001B[39;00m \u001B[38;5;28;01mNone\u001B[39;00m \u001B[38;5;28;01melse\u001B[39;00m \u001B[38;5;28mbool\u001B[39m(_multifile)\n",
      "File \u001B[1;32m~\\anaconda3\\envs\\cellseg3d\\lib\\site-packages\\tifffile\\tifffile.py:11829\u001B[0m, in \u001B[0;36mFileHandle.__init__\u001B[1;34m(self, file, mode, name, offset, size)\u001B[0m\n\u001B[0;32m  11827\u001B[0m \u001B[38;5;28mself\u001B[39m\u001B[38;5;241m.\u001B[39m_close \u001B[38;5;241m=\u001B[39m \u001B[38;5;28;01mTrue\u001B[39;00m\n\u001B[0;32m  11828\u001B[0m \u001B[38;5;28mself\u001B[39m\u001B[38;5;241m.\u001B[39m_lock \u001B[38;5;241m=\u001B[39m NullContext()\n\u001B[1;32m> 11829\u001B[0m \u001B[38;5;28;43mself\u001B[39;49m\u001B[38;5;241;43m.\u001B[39;49m\u001B[43mopen\u001B[49m\u001B[43m(\u001B[49m\u001B[43m)\u001B[49m\n\u001B[0;32m  11830\u001B[0m \u001B[38;5;28;01massert\u001B[39;00m \u001B[38;5;28mself\u001B[39m\u001B[38;5;241m.\u001B[39m_fh \u001B[38;5;129;01mis\u001B[39;00m \u001B[38;5;129;01mnot\u001B[39;00m \u001B[38;5;28;01mNone\u001B[39;00m\n\u001B[0;32m  11831\u001B[0m \u001B[38;5;28;01mtry\u001B[39;00m:\n",
      "File \u001B[1;32m~\\anaconda3\\envs\\cellseg3d\\lib\\site-packages\\tifffile\\tifffile.py:11848\u001B[0m, in \u001B[0;36mFileHandle.open\u001B[1;34m(self)\u001B[0m\n\u001B[0;32m  11846\u001B[0m \u001B[38;5;28mself\u001B[39m\u001B[38;5;241m.\u001B[39m_file \u001B[38;5;241m=\u001B[39m os\u001B[38;5;241m.\u001B[39mpath\u001B[38;5;241m.\u001B[39mrealpath(\u001B[38;5;28mself\u001B[39m\u001B[38;5;241m.\u001B[39m_file)\n\u001B[0;32m  11847\u001B[0m \u001B[38;5;28mself\u001B[39m\u001B[38;5;241m.\u001B[39m_dir, \u001B[38;5;28mself\u001B[39m\u001B[38;5;241m.\u001B[39m_name \u001B[38;5;241m=\u001B[39m os\u001B[38;5;241m.\u001B[39mpath\u001B[38;5;241m.\u001B[39msplit(\u001B[38;5;28mself\u001B[39m\u001B[38;5;241m.\u001B[39m_file)\n\u001B[1;32m> 11848\u001B[0m \u001B[38;5;28mself\u001B[39m\u001B[38;5;241m.\u001B[39m_fh \u001B[38;5;241m=\u001B[39m \u001B[38;5;28;43mopen\u001B[39;49m\u001B[43m(\u001B[49m\u001B[38;5;28;43mself\u001B[39;49m\u001B[38;5;241;43m.\u001B[39;49m\u001B[43m_file\u001B[49m\u001B[43m,\u001B[49m\u001B[43m \u001B[49m\u001B[38;5;28;43mself\u001B[39;49m\u001B[38;5;241;43m.\u001B[39;49m\u001B[43m_mode\u001B[49m\u001B[43m)\u001B[49m  \u001B[38;5;66;03m# type: ignore\u001B[39;00m\n\u001B[0;32m  11849\u001B[0m \u001B[38;5;28mself\u001B[39m\u001B[38;5;241m.\u001B[39m_close \u001B[38;5;241m=\u001B[39m \u001B[38;5;28;01mTrue\u001B[39;00m\n\u001B[0;32m  11850\u001B[0m \u001B[38;5;28;01mif\u001B[39;00m \u001B[38;5;28mself\u001B[39m\u001B[38;5;241m.\u001B[39m_offset \u001B[38;5;241m<\u001B[39m \u001B[38;5;241m0\u001B[39m:\n",
      "\u001B[1;31mFileNotFoundError\u001B[0m: [Errno 2] No such file or directory: 'C:\\\\Users\\\\Cyril\\\\Desktop\\\\Code\\\\ml-project-2-cellseg\\\\results\\\\self supervised\\\\original_1_instance.tif'"
     ]
    }
   ],
   "source": [
    "models_label_1=tiff.imread(r\"../../results/self supervised/original_1_instance.tif\")\n",
    "models_label_2=tiff.imread(r\"../../results/self supervised/original_2_instance.tif\")\n",
    "path_true_labels_1=r\"../../dataset_clean/cropped_visual/val/labels/crop_lab_val_new_label.tif\"\n",
    "path_true_labels_2=r\"../../dataset_clean/cropped_visual/val/labels/crop_lab_val2_new_label.tif\""
   ]
  },
  {
   "cell_type": "code",
   "execution_count": 3,
   "metadata": {},
   "outputs": [
    {
     "name": "stdout",
     "output_type": "stream",
     "text": [
      "Neurons found:  25\n",
      "Neurons fused:  4\n",
      "Neurons not found:  2\n",
      "Artefacts found:  3\n",
      "Mean true positive ratio of the model:  0.930130243165642\n",
      "Mean ratio of the neurons pixels correctly labelled:  0.6744774090519761\n",
      "Mean ratio of the neurons pixels correctly labelled for fused neurons:  0.6742840423268688\n",
      "Mean true positive ratio of the model for fused neurons:  0.9512014289084353\n",
      "Mean ratio of false pixel in artefacts:  1.0\n"
     ]
    },
    {
     "data": {
      "text/plain": [
       "(25,\n",
       " 4,\n",
       " 2,\n",
       " 3,\n",
       " 0.930130243165642,\n",
       " 0.6744774090519761,\n",
       " 0.6742840423268688,\n",
       " 0.9512014289084353,\n",
       " 1.0)"
      ]
     },
     "execution_count": 3,
     "metadata": {},
     "output_type": "execute_result"
    }
   ],
   "source": [
    "perf.evaluate_model_performance(tiff.imread(path_true_labels_1),models_label_1)"
   ]
  },
  {
   "cell_type": "code",
   "execution_count": 4,
   "metadata": {},
   "outputs": [
    {
     "name": "stdout",
     "output_type": "stream",
     "text": [
      "Neurons found:  30\n",
      "Neurons fused:  2\n",
      "Neurons not found:  12\n",
      "Artefacts found:  18\n",
      "Mean true positive ratio of the model:  0.8711392064222789\n",
      "Mean ratio of the neurons pixels correctly labelled:  0.7292520639756664\n",
      "Mean ratio of the neurons pixels correctly labelled for fused neurons:  0.6906919779546846\n",
      "Mean true positive ratio of the model for fused neurons:  0.7560975609756098\n",
      "Mean ratio of false pixel in artefacts:  0.9782608695652174\n"
     ]
    },
    {
     "data": {
      "text/plain": [
       "(30,\n",
       " 2,\n",
       " 12,\n",
       " 18,\n",
       " 0.8711392064222789,\n",
       " 0.7292520639756664,\n",
       " 0.6906919779546846,\n",
       " 0.7560975609756098,\n",
       " 0.9782608695652174)"
      ]
     },
     "execution_count": 4,
     "metadata": {},
     "output_type": "execute_result"
    }
   ],
   "source": [
    "perf.evaluate_model_performance(tiff.imread(path_true_labels_2),models_label_2)"
   ]
  }
 ],
 "metadata": {
  "kernelspec": {
   "display_name": "Python 3 (ipykernel)",
   "language": "python",
   "name": "python3"
  },
  "language_info": {
   "codemirror_mode": {
    "name": "ipython",
    "version": 3
   },
   "file_extension": ".py",
   "mimetype": "text/x-python",
   "name": "python",
   "nbconvert_exporter": "python",
   "pygments_lexer": "ipython3",
   "version": "3.8.13"
  },
  "vscode": {
   "interpreter": {
    "hash": "18e1deef659882ad12ee34364eeed819f7e5087d805315dbc0770e8765510015"
   }
  }
 },
 "nbformat": 4,
 "nbformat_minor": 4
}