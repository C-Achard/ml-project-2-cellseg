{
 "cells": [
  {
   "cell_type": "code",
   "execution_count": 1,
   "metadata": {},
   "outputs": [
    {
     "name": "stderr",
     "output_type": "stream",
     "text": [
      "C:\\Users\\Cyril\\anaconda3\\envs\\cellseg3d\\lib\\site-packages\\tqdm\\auto.py:22: TqdmWarning: IProgress not found. Please update jupyter and ipywidgets. See https://ipywidgets.readthedocs.io/en/stable/user_install.html\n",
      "  from .autonotebook import tqdm as notebook_tqdm\n"
     ]
    }
   ],
   "source": [
    "from predict import PredictWNet\n",
    "from config import Config\n",
    "import tifffile as tiff\n",
    "import numpy as np\n",
    "import sys\n",
    "import napari\n",
    "\n",
    "sys.path.append(\"../..\")\n",
    "from utils import create_dataset_dict_no_labs"
   ]
  },
  {
   "cell_type": "code",
   "execution_count": 2,
   "metadata": {},
   "outputs": [],
   "source": [
    "config = Config()\n",
    "predictor = PredictWNet(\n",
    "    trained_model_path=r\"new_results_wnet_1500e/test_wnet_1500e.pth\",\n",
    "    config=config,\n",
    "    crf=False,\n",
    ")\n",
    "\n",
    "train_files = create_dataset_dict_no_labs(\n",
    "    volume_directory=r\"../../dataset/cropped_visual/val/volumes\"\n",
    ")\n",
    "train_files = [d.get(\"image\") for d in train_files]\n",
    "volumes = tiff.imread(train_files).astype(np.float32)"
   ]
  },
  {
   "cell_type": "code",
   "execution_count": 3,
   "metadata": {},
   "outputs": [],
   "source": [
    "segmentations = predictor.predict_batch(volumes)\n",
    "#segmentations = np.where(segmentations > 0.5, 0, 1)\n",
    "tiff.imwrite(r\"../../results/segmentations.tif\", segmentations)"
   ]
  },
  {
   "cell_type": "code",
   "execution_count": 10,
   "metadata": {},
   "outputs": [
    {
     "name": "stdout",
     "output_type": "stream",
     "text": [
      "(7, 64, 64, 64)\n"
     ]
    }
   ],
   "source": [
    "segmentations_max = np.argmax(segmentations, axis=1)\n",
    "segmentation_0 = np.where(segmentations_max == 0, segmentations_max + 1, 0)\n",
    "segmentation_1 = np.where(segmentations_max == 1, segmentations_max, 0)\n",
    "segmentation_2 = np.where(segmentations_max == 2, segmentations_max - 1, 0)\n",
    "print(segmentation_0.shape)"
   ]
  },
  {
   "cell_type": "code",
   "execution_count": 15,
   "metadata": {},
   "outputs": [],
   "source": [
    "viewer = napari.viewer.Viewer()\n",
    "for i in range(segmentation_0.shape[0]):\n",
    "    viewer.add_image(volumes[i], name=f\"Original image {i}\", colormap=\"inferno\")\n",
    "    # viewer.add_labels(segmentation_0[i], name=f\"Segmentation 0 image {i}\")\n",
    "    viewer.add_labels(segmentation_1[i], name=f\"Segmentation 1 image {i}\")\n",
    "    # viewer.add_labels(segmentation_2[i], name=f\"Segmentation 2 image {i}\")"
   ]
  },
  {
   "cell_type": "code",
   "execution_count": 16,
   "metadata": {},
   "outputs": [],
   "source": [
    "napari.run()"
   ]
  },
  {
   "cell_type": "code",
   "execution_count": null,
   "outputs": [],
   "source": [],
   "metadata": {
    "collapsed": false,
    "pycharm": {
     "name": "#%%\n"
    }
   }
  }
 ],
 "metadata": {
  "kernelspec": {
   "display_name": "celseg",
   "language": "python",
   "name": "python3"
  },
  "language_info": {
   "codemirror_mode": {
    "name": "ipython",
    "version": 3
   },
   "file_extension": ".py",
   "mimetype": "text/x-python",
   "name": "python",
   "nbconvert_exporter": "python",
   "pygments_lexer": "ipython3",
   "version": "3.8.15"
  },
  "orig_nbformat": 4,
  "vscode": {
   "interpreter": {
    "hash": "ca907ccda3bec31e2c154d9ff79dc3f1e124bb6e33dcffc0b1cb4c904ea365d7"
   }
  }
 },
 "nbformat": 4,
 "nbformat_minor": 2
}