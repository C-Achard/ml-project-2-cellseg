{
 "cells": [
  {
   "cell_type": "code",
   "execution_count": 1,
   "metadata": {},
   "outputs": [
    {
     "name": "stderr",
     "output_type": "stream",
     "text": [
      "C:\\Users\\Cyril\\anaconda3\\envs\\cellseg3d\\lib\\site-packages\\tqdm\\auto.py:22: TqdmWarning: IProgress not found. Please update jupyter and ipywidgets. See https://ipywidgets.readthedocs.io/en/stable/user_install.html\n",
      "  from .autonotebook import tqdm as notebook_tqdm\n"
     ]
    }
   ],
   "source": [
    "from predict import PredictWNet\n",
    "from config import Config\n",
    "import tifffile as tiff\n",
    "import numpy as np\n",
    "import sys\n",
    "import napari\n",
    "\n",
    "sys.path.append(\"../..\")\n",
    "from utils import create_dataset_dict_no_labs"
   ]
  },
  {
   "cell_type": "code",
   "execution_count": 4,
   "metadata": {},
   "outputs": [],
   "source": [
    "config = Config()\n",
    "predictor = PredictWNet(\n",
    "    trained_model_path=r\"./chkpt_res/test_wnet_checkpoint.pth\",\n",
    "    config=config,\n",
    "    crf=False,\n",
    ")\n",
    "\n",
    "train_files = create_dataset_dict_no_labs(\n",
    "    volume_directory=r\"../../dataset/cropped_visual/val/volumes\"\n",
    ")\n",
    "train_files = [d.get(\"image\") for d in train_files]\n",
    "volumes = tiff.imread(train_files).astype(np.float32)"
   ]
  },
  {
   "cell_type": "code",
   "execution_count": 6,
   "metadata": {},
   "outputs": [],
   "source": [
    "segmentations = predictor.predict_batch(volumes)\n",
    "#segmentations = np.where(segmentations > 0.5, 0, 1)\n",
    "tiff.imwrite(r\"../../results/segmentations.tif\", segmentations)"
   ]
  },
  {
   "cell_type": "code",
   "execution_count": 7,
   "metadata": {},
   "outputs": [
    {
     "name": "stdout",
     "output_type": "stream",
     "text": [
      "(2, 64, 64, 64)\n"
     ]
    }
   ],
   "source": [
    "segmentations_max = np.argmax(segmentations, axis=1)\n",
    "segmentation_0 = np.where(segmentations_max == 0, segmentations_max + 1, 0)\n",
    "segmentation_1 = np.where(segmentations_max == 1, segmentations_max, 0)\n",
    "segmentation_2 = np.where(segmentations_max == 2, segmentations_max - 1, 0)\n",
    "print(segmentation_0.shape)"
   ]
  },
  {
   "cell_type": "code",
   "execution_count": 8,
   "metadata": {},
   "outputs": [],
   "source": [
    "viewer = napari.viewer.Viewer()\n",
    "for i in range(segmentation_0.shape[0]):\n",
    "    viewer.add_image(volumes[i], name=f\"Original image {i}\", colormap=\"inferno\")\n",
    "    # viewer.add_labels(segmentation_0[i], name=f\"Segmentation 0 image {i}\")\n",
    "    viewer.add_labels(segmentation_1[i], name=f\"Segmentation 1 image {i}\")\n",
    "    # viewer.add_labels(segmentation_2[i], name=f\"Segmentation 2 image {i}\")"
   ]
  },
  {
   "cell_type": "code",
   "execution_count": 9,
   "metadata": {},
   "outputs": [],
   "source": [
    "napari.run()"
   ]
  },
  {
   "cell_type": "code",
   "execution_count": 11,
   "metadata": {
    "collapsed": false,
    "jupyter": {
     "outputs_hidden": false
    },
    "pycharm": {
     "name": "#%%\n"
    }
   },
   "outputs": [
    {
     "data": {
      "text/plain": [
       "<Labels layer 'watershed [1]' at 0x217b4375a60>"
      ]
     },
     "execution_count": 11,
     "metadata": {},
     "output_type": "execute_result"
    }
   ],
   "source": [
    "from post_processing import binary_watershed\n",
    "\n",
    "viewer.add_labels(\n",
    "    binary_watershed(viewer.layers.selection.active.data), name=\"watershed\"\n",
    ")"
   ]
  },
  {
   "cell_type": "code",
   "execution_count": null,
   "metadata": {
    "collapsed": false,
    "jupyter": {
     "outputs_hidden": false
    },
    "pycharm": {
     "name": "#%%\n"
    }
   },
   "outputs": [],
   "source": []
  }
 ],
 "metadata": {
  "kernelspec": {
   "display_name": "Python 3 (ipykernel)",
   "language": "python",
   "name": "python3"
  },
  "language_info": {
   "codemirror_mode": {
    "name": "ipython",
    "version": 3
   },
   "file_extension": ".py",
   "mimetype": "text/x-python",
   "name": "python",
   "nbconvert_exporter": "python",
   "pygments_lexer": "ipython3",
   "version": "3.8.13"
  },
  "vscode": {
   "interpreter": {
    "hash": "18e1deef659882ad12ee34364eeed819f7e5087d805315dbc0770e8765510015"
   }
  }
 },
 "nbformat": 4,
 "nbformat_minor": 4
}