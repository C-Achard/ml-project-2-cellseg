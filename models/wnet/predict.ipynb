{
 "cells": [
  {
   "cell_type": "code",
   "execution_count": 1,
   "metadata": {},
   "outputs": [
    {
     "name": "stderr",
     "output_type": "stream",
     "text": [
      "c:\\Users\\colin\\anaconda3\\envs\\celseg\\lib\\site-packages\\tqdm\\auto.py:22: TqdmWarning: IProgress not found. Please update jupyter and ipywidgets. See https://ipywidgets.readthedocs.io/en/stable/user_install.html\n",
      "  from .autonotebook import tqdm as notebook_tqdm\n"
     ]
    }
   ],
   "source": [
    "from predict import PredictWNet\n",
    "from config import Config\n",
    "import tifffile as tiff\n",
    "import numpy as np\n",
    "import sys\n",
    "\n",
    "sys.path.append(\"../..\")\n",
    "from utils import create_dataset_dict_no_labs"
   ]
  },
  {
   "cell_type": "code",
   "execution_count": null,
   "metadata": {},
   "outputs": [],
   "source": [
    "config = Config()\n",
    "predictor = PredictWNet(\n",
    "    trained_model_path=r\"WNet_results/test_wnet.pth\",\n",
    "    config=config,\n",
    "    crf=False,\n",
    ")\n",
    "\n",
    "train_files = create_dataset_dict_no_labs(\n",
    "    volume_directory=r\"C:\\Users\\colin\\Documents\\Ecole\\EPFL\\MA1\\Machine Learning\\ml-project-2-cellseg\\models\\wnet\\data\\cropped\\val\\images\"\n",
    ")\n",
    "train_files = [d.get(\"image\") for d in train_files]\n",
    "volumes = tiff.imread(train_files).astype(np.float32)"
   ]
  },
  {
   "cell_type": "code",
   "execution_count": null,
   "metadata": {},
   "outputs": [],
   "source": [
    "segmentations = predictor.predict_batch(volumes)\n",
    "tiff.imwrite(r\"WNet_results\\segmentations.tiff\", segmentations)"
   ]
  }
 ],
 "metadata": {
  "kernelspec": {
   "display_name": "celseg",
   "language": "python",
   "name": "python3"
  },
  "language_info": {
   "codemirror_mode": {
    "name": "ipython",
    "version": 3
   },
   "file_extension": ".py",
   "mimetype": "text/x-python",
   "name": "python",
   "nbconvert_exporter": "python",
   "pygments_lexer": "ipython3",
   "version": "3.8.15"
  },
  "orig_nbformat": 4,
  "vscode": {
   "interpreter": {
    "hash": "ca907ccda3bec31e2c154d9ff79dc3f1e124bb6e33dcffc0b1cb4c904ea365d7"
   }
  }
 },
 "nbformat": 4,
 "nbformat_minor": 2
}
