{
 "cells": [
  {
   "cell_type": "code",
   "execution_count": 1,
   "metadata": {},
   "outputs": [
    {
     "name": "stderr",
     "output_type": "stream",
     "text": [
      "c:\\Users\\colin\\anaconda3\\envs\\celseg\\lib\\site-packages\\tqdm\\auto.py:22: TqdmWarning: IProgress not found. Please update jupyter and ipywidgets. See https://ipywidgets.readthedocs.io/en/stable/user_install.html\n",
      "  from .autonotebook import tqdm as notebook_tqdm\n"
     ]
    }
   ],
   "source": [
    "from predict import PredictWNet\n",
    "from config import Config\n",
    "import tifffile as tiff\n",
    "import numpy as np\n",
    "import sys\n",
    "import napari\n",
    "\n",
    "sys.path.append(\"../..\")\n",
    "from utils import create_dataset_dict_no_labs"
   ]
  },
  {
   "cell_type": "code",
   "execution_count": 2,
   "metadata": {},
   "outputs": [
    {
     "name": "stdout",
     "output_type": "stream",
     "text": [
      "2022-12-21 15:11:53,291 - Images :\n",
      "2022-12-21 15:11:53,292 - crop_vol_val\n",
      "2022-12-21 15:11:53,293 - crop_vol_val2\n",
      "2022-12-21 15:11:53,294 - **********\n"
     ]
    }
   ],
   "source": [
    "config = Config()\n",
    "predictor = PredictWNet(\n",
    "    trained_model_path=r\"WNet_results/test_wnet_1500e.pth\",\n",
    "    config=config,\n",
    "    crf=False,\n",
    ")\n",
    "\n",
    "train_files = create_dataset_dict_no_labs(\n",
    "    volume_directory=r\"data/cropped/val/images\"\n",
    ")\n",
    "train_files = [d.get(\"image\") for d in train_files]\n",
    "volumes = tiff.imread(train_files).astype(np.float32)"
   ]
  },
  {
   "cell_type": "code",
   "execution_count": 18,
   "metadata": {},
   "outputs": [],
   "source": [
    "segmentations = predictor.predict_batch(volumes)\n",
    "#segmentations = np.where(segmentations > 0.5, 0, 1)\n",
    "tiff.imwrite(r\"WNet_results\\segmentations.tiff\", segmentations)"
   ]
  },
  {
   "cell_type": "code",
   "execution_count": 20,
   "metadata": {},
   "outputs": [
    {
     "name": "stdout",
     "output_type": "stream",
     "text": [
      "(2, 64, 64, 64)\n"
     ]
    }
   ],
   "source": [
    "segmentations_max = np.argmax(segmentations, axis=1)\n",
    "segmentation_0 = np.where(segmentations_max == 0, segmentations_max + 1, 0)\n",
    "segmentation_1 = np.where(segmentations_max == 1, segmentations_max, 0)\n",
    "segmentation_2 = np.where(segmentations_max == 2, segmentations_max - 1, 0)\n",
    "print(segmentation_0.shape)"
   ]
  },
  {
   "cell_type": "code",
   "execution_count": 22,
   "metadata": {},
   "outputs": [
    {
     "data": {
      "text/plain": [
       "<Image layer 'Segmentation 2' at 0x28a9884f790>"
      ]
     },
     "execution_count": 22,
     "metadata": {},
     "output_type": "execute_result"
    }
   ],
   "source": [
    "viewer = napari.view_image(volumes[1], name=\"Original\")\n",
    "viewer.add_image(segmentation_0[1], name=\"Segmentation 0\")\n",
    "viewer.add_image(segmentation_1[1], name=\"Segmentation 1\")\n",
    "viewer.add_image(segmentation_2[1], name=\"Segmentation 2\")"
   ]
  },
  {
   "cell_type": "code",
   "execution_count": 5,
   "metadata": {},
   "outputs": [
    {
     "name": "stdout",
     "output_type": "stream",
     "text": [
      "2022-12-21 15:12:25,891 - No OpenGL_accelerate module loaded: No module named 'OpenGL_accelerate'\n"
     ]
    }
   ],
   "source": [
    "napari.run()"
   ]
  }
 ],
 "metadata": {
  "kernelspec": {
   "display_name": "celseg",
   "language": "python",
   "name": "python3"
  },
  "language_info": {
   "codemirror_mode": {
    "name": "ipython",
    "version": 3
   },
   "file_extension": ".py",
   "mimetype": "text/x-python",
   "name": "python",
   "nbconvert_exporter": "python",
   "pygments_lexer": "ipython3",
   "version": "3.8.15"
  },
  "orig_nbformat": 4,
  "vscode": {
   "interpreter": {
    "hash": "ca907ccda3bec31e2c154d9ff79dc3f1e124bb6e33dcffc0b1cb4c904ea365d7"
   }
  }
 },
 "nbformat": 4,
 "nbformat_minor": 2
}
