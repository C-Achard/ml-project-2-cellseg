{
 "cells": [
  {
   "cell_type": "code",
   "execution_count": 10,
   "metadata": {
    "tags": []
   },
   "outputs": [],
   "source": [
    "from predict import PredictWNet\n",
    "from config import Config\n",
    "import tifffile as tiff\n",
    "import numpy as np\n",
    "import sys\n",
    "import napari\n",
    "\n",
    "sys.path.append(\"../..\")\n",
    "from utils import create_dataset_dict_no_labs"
   ]
  },
  {
   "cell_type": "code",
   "execution_count": 11,
   "metadata": {
    "tags": []
   },
   "outputs": [
    {
     "name": "stdout",
     "output_type": "stream",
     "text": [
      "2023-04-11 14:14:19,830 - Images :\n",
      "2023-04-11 14:14:19,836 - crop_vol_val\n",
      "2023-04-11 14:14:19,837 - crop_vol_val2\n",
      "2023-04-11 14:14:19,837 - **********\n"
     ]
    }
   ],
   "source": [
    "config = Config()\n",
    "predictor = PredictWNet(\n",
    "    trained_model_path=r\"./chkpt_res/test_wnet_checkpoint_4500e.pth\",\n",
    "    config=config,\n",
    "    crf=True,\n",
    ")\n",
    "\n",
    "train_files = create_dataset_dict_no_labs(\n",
    "    volume_directory=r\"../../dataset/cropped_visual/val/volumes\"\n",
    ")\n",
    "train_files = [d.get(\"image\") for d in train_files]\n",
    "volumes = tiff.imread(train_files).astype(np.float32)"
   ]
  },
  {
   "cell_type": "code",
   "execution_count": 12,
   "metadata": {
    "tags": []
   },
   "outputs": [],
   "source": [
    "segmentations = predictor.predict_batch(volumes)\n",
    "#segmentations = np.where(segmentations > 0.5, 0, 1)\n",
    "tiff.imwrite(r\"../../results/segmentations.tif\", segmentations)"
   ]
  },
  {
   "cell_type": "code",
   "execution_count": 4,
   "metadata": {
    "tags": []
   },
   "outputs": [
    {
     "name": "stdout",
     "output_type": "stream",
     "text": [
      "(2, 64, 64, 64)\n"
     ]
    }
   ],
   "source": [
    "segmentations_max = np.argmax(segmentations, axis=1)\n",
    "segmentation_0 = np.where(segmentations_max == 0, segmentations_max + 1, 0)\n",
    "segmentation_1 = np.where(segmentations_max == 1, segmentations_max, 0)\n",
    "segmentation_2 = np.where(segmentations_max == 2, segmentations_max - 1, 0)\n",
    "print(segmentation_0.shape)"
   ]
  },
  {
   "cell_type": "code",
   "execution_count": 8,
   "metadata": {
    "tags": []
   },
   "outputs": [],
   "source": [
    "viewer = napari.viewer.Viewer()\n",
    "for i in range(segmentation_0.shape[0]):\n",
    "    viewer.add_image(volumes[i], name=f\"Original image {i}\", colormap=\"inferno\")\n",
    "    # viewer.add_labels(segmentation_0[i], name=f\"Segmentation 0 image {i}\")\n",
    "    # viewer.add_image(segmentation_0[i], name=f\"Segmentation 1 image {i}\")\n",
    "    viewer.add_image(segmentation_1[i], name=f\"Segmentation 1 image {i}\")\n",
    "    # viewer.add_image(segmentation_2[i], name=f\"Segmentation 2 image {i}\")"
   ]
  },
  {
   "cell_type": "code",
   "execution_count": 9,
   "metadata": {
    "collapsed": false,
    "jupyter": {
     "outputs_hidden": false
    },
    "tags": []
   },
   "outputs": [
    {
     "data": {
      "text/plain": [
       "<Labels layer 'watershed' at 0x2142fb3c670>"
      ]
     },
     "execution_count": 9,
     "metadata": {},
     "output_type": "execute_result"
    }
   ],
   "source": [
    "from post_processing import binary_watershed\n",
    "\n",
    "viewer.add_labels(\n",
    "    binary_watershed(viewer.layers.selection.active.data), name=\"watershed\"\n",
    ")"
   ]
  },
  {
   "cell_type": "code",
   "execution_count": null,
   "metadata": {
    "collapsed": false,
    "jupyter": {
     "outputs_hidden": false
    }
   },
   "outputs": [],
   "source": []
  }
 ],
 "metadata": {
  "kernelspec": {
   "display_name": "Python 3 (ipykernel)",
   "language": "python",
   "name": "python3"
  },
  "language_info": {
   "codemirror_mode": {
    "name": "ipython",
    "version": 3
   },
   "file_extension": ".py",
   "mimetype": "text/x-python",
   "name": "python",
   "nbconvert_exporter": "python",
   "pygments_lexer": "ipython3",
   "version": "3.8.16"
  },
  "vscode": {
   "interpreter": {
    "hash": "18e1deef659882ad12ee34364eeed819f7e5087d805315dbc0770e8765510015"
   }
  }
 },
 "nbformat": 4,
 "nbformat_minor": 4
}
