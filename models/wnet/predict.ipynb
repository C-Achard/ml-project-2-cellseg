{
 "cells": [
  {
   "cell_type": "code",
   "execution_count": 3,
   "metadata": {},
   "outputs": [],
   "source": [
    "from predict import PredictWNet\n",
    "from config import Config\n",
    "import tifffile as tiff\n",
    "import numpy as np\n",
    "import sys\n",
    "import napari\n",
    "\n",
    "sys.path.append(\"../..\")\n",
    "from utils import create_dataset_dict_no_labs"
   ]
  },
  {
   "cell_type": "code",
   "execution_count": 5,
   "metadata": {},
   "outputs": [
    {
     "name": "stdout",
     "output_type": "stream",
     "text": [
      "2022-12-21 20:17:30,014 - Images :\n",
      "2022-12-21 20:17:30,015 - crop_vol_val\n",
      "2022-12-21 20:17:30,016 - crop_vol_val2\n",
      "2022-12-21 20:17:30,017 - **********\n"
     ]
    }
   ],
   "source": [
    "config = Config()\n",
    "predictor = PredictWNet(\n",
    "    trained_model_path=r\"../../weights_results/results_unsupervised/test_wnet_1500e.pth\",\n",
    "    config=config,\n",
    "    crf=False,\n",
    ")\n",
    "\n",
    "train_files = create_dataset_dict_no_labs(\n",
    "    volume_directory=r\"../../dataset_clean/cropped_visual/val/volumes\"\n",
    ")\n",
    "train_files = [d.get(\"image\") for d in train_files]\n",
    "volumes = tiff.imread(train_files).astype(np.float32)"
   ]
  },
  {
   "cell_type": "code",
   "execution_count": 7,
   "metadata": {},
   "outputs": [],
   "source": [
    "segmentations = predictor.predict_batch(volumes)\n",
    "#segmentations = np.where(segmentations > 0.5, 0, 1)\n",
    "tiff.imwrite(r\"../../results/segmentations.tif\", segmentations)"
   ]
  },
  {
   "cell_type": "code",
   "execution_count": 8,
   "metadata": {},
   "outputs": [
    {
     "name": "stdout",
     "output_type": "stream",
     "text": [
      "(2, 64, 64, 64)\n"
     ]
    }
   ],
   "source": [
    "segmentations_max = np.argmax(segmentations, axis=1)\n",
    "segmentation_0 = np.where(segmentations_max == 0, segmentations_max + 1, 0)\n",
    "segmentation_1 = np.where(segmentations_max == 1, segmentations_max, 0)\n",
    "segmentation_2 = np.where(segmentations_max == 2, segmentations_max - 1, 0)\n",
    "print(segmentation_0.shape)"
   ]
  },
  {
   "cell_type": "code",
   "execution_count": 12,
   "metadata": {},
   "outputs": [],
   "source": [
    "viewer = napari.viewer.Viewer()\n",
    "for i in range(segmentation_0.shape[0]):\n",
    "    viewer.add_image(volumes[i], name=f\"Original image {i}\", colormap=\"inferno\")\n",
    "    # viewer.add_labels(segmentation_0[i], name=f\"Segmentation 0 image {i}\")\n",
    "    viewer.add_labels(segmentation_1[i], name=f\"Segmentation 1 image {i}\")\n",
    "    # viewer.add_labels(segmentation_2[i], name=f\"Segmentation 2 image {i}\")"
   ]
  },
  {
   "cell_type": "code",
   "execution_count": 17,
   "metadata": {},
   "outputs": [],
   "source": [
    "napari.run()"
   ]
  },
  {
   "cell_type": "code",
   "execution_count": 16,
   "metadata": {
    "collapsed": false,
    "pycharm": {
     "name": "#%%\n"
    }
   },
   "outputs": [
    {
     "data": {
      "text/plain": "<Labels layer 'watershed' at 0x2ade5b6b190>"
     },
     "execution_count": 16,
     "metadata": {},
     "output_type": "execute_result"
    }
   ],
   "source": [
    "from post_processing import binary_watershed\n",
    "\n",
    "viewer.add_labels(\n",
    "    binary_watershed(viewer.layers.selection.active.data), name=\"watershed\"\n",
    ")"
   ]
  },
  {
   "cell_type": "code",
   "execution_count": null,
   "outputs": [],
   "source": [],
   "metadata": {
    "collapsed": false,
    "pycharm": {
     "name": "#%%\n"
    }
   }
  }
 ],
 "metadata": {
  "kernelspec": {
   "display_name": "Python 3",
   "language": "python",
   "name": "python3"
  },
  "language_info": {
   "codemirror_mode": {
    "name": "ipython",
    "version": 3
   },
   "file_extension": ".py",
   "mimetype": "text/x-python",
   "name": "python",
   "nbconvert_exporter": "python",
   "pygments_lexer": "ipython3",
   "version": "3.8.15"
  },
  "orig_nbformat": 4,
  "vscode": {
   "interpreter": {
    "hash": "18e1deef659882ad12ee34364eeed819f7e5087d805315dbc0770e8765510015"
   }
  }
 },
 "nbformat": 4,
 "nbformat_minor": 2
}