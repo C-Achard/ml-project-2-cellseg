{
 "cells": [
  {
   "cell_type": "code",
   "execution_count": 1,
   "metadata": {
    "collapsed": true
   },
   "outputs": [],
   "source": [
    "from wnet.crf import crf\n",
    "import napari\n",
    "from tifffile import imread\n",
    "from pathlib import Path\n",
    "from tqdm.notebook import tqdm\n",
    "from tqdm.contrib.itertools import product\n",
    "import numpy as np"
   ]
  },
  {
   "cell_type": "code",
   "execution_count": 2,
   "outputs": [],
   "source": [
    "pre_crf = imread(str(Path(\"C:/Users/Cyril/Desktop/test/pre_crf/pre_crf.tif\")))\n",
    "image_dir = str(Path(\"../dataset/cropped_visual/val/volumes/crop_vol_val.tif\"))\n",
    "image = imread(image_dir)"
   ],
   "metadata": {
    "collapsed": false,
    "pycharm": {
     "name": "#%%\n"
    }
   }
  },
  {
   "cell_type": "code",
   "execution_count": 3,
   "outputs": [
    {
     "data": {
      "text/plain": "(3, 64, 64, 64)"
     },
     "execution_count": 3,
     "metadata": {},
     "output_type": "execute_result"
    }
   ],
   "source": [
    "pre_crf.shape"
   ],
   "metadata": {
    "collapsed": false,
    "pycharm": {
     "name": "#%%\n"
    }
   }
  },
  {
   "cell_type": "code",
   "execution_count": 4,
   "outputs": [
    {
     "data": {
      "text/plain": "(64, 64, 64)"
     },
     "execution_count": 4,
     "metadata": {},
     "output_type": "execute_result"
    }
   ],
   "source": [
    "image.shape"
   ],
   "metadata": {
    "collapsed": false,
    "pycharm": {
     "name": "#%%\n"
    }
   }
  },
  {
   "cell_type": "code",
   "execution_count": 5,
   "outputs": [],
   "source": [
    "image = np.expand_dims(image, 0)"
   ],
   "metadata": {
    "collapsed": false,
    "pycharm": {
     "name": "#%%\n"
    }
   }
  },
  {
   "cell_type": "code",
   "execution_count": 6,
   "outputs": [
    {
     "data": {
      "text/plain": "  0%|          | 0/9 [00:00<?, ?it/s]",
      "application/vnd.jupyter.widget-view+json": {
       "version_major": 2,
       "version_minor": 0,
       "model_id": "59e72fd7e1c14c2781ceced84c8a8ea6"
      },
      "application/json": {
       "n": 0,
       "total": 9,
       "elapsed": 0.04800581932067871,
       "ncols": null,
       "nrows": null,
       "prefix": "",
       "ascii": false,
       "unit": "it",
       "unit_scale": false,
       "rate": null,
       "bar_format": null,
       "postfix": null,
       "unit_divisor": 1000,
       "initial": 0,
       "colour": null
      }
     },
     "metadata": {},
     "output_type": "display_data"
    }
   ],
   "source": [
    "params = [10,25,50]\n",
    "results = {}\n",
    "iter_params = product(\n",
    "    params,\n",
    "    params\n",
    ")\n",
    "sa=1\n",
    "sb=1\n",
    "sg = 1\n",
    "w2 = 10\n",
    "for w1, w2 in iter_params:\n",
    "    res = crf(\n",
    "        image,\n",
    "        pre_crf,\n",
    "        sa,\n",
    "        sb,\n",
    "        sg,\n",
    "        w1=w1,\n",
    "        w2=w2,\n",
    "    )\n",
    "    results[f\"crf_{sa}_{sb}_{sg}_{w1}_{w2}\"] = res"
   ],
   "metadata": {
    "collapsed": false,
    "pycharm": {
     "name": "#%%\n"
    }
   }
  },
  {
   "cell_type": "code",
   "execution_count": 7,
   "outputs": [
    {
     "data": {
      "text/plain": "9"
     },
     "execution_count": 7,
     "metadata": {},
     "output_type": "execute_result"
    }
   ],
   "source": [
    "len(results.keys())"
   ],
   "metadata": {
    "collapsed": false,
    "pycharm": {
     "name": "#%%\n"
    }
   }
  },
  {
   "cell_type": "code",
   "execution_count": 8,
   "outputs": [
    {
     "data": {
      "text/plain": "  0%|          | 0/9 [00:00<?, ?it/s]",
      "application/vnd.jupyter.widget-view+json": {
       "version_major": 2,
       "version_minor": 0,
       "model_id": "24cab5c69ffe49a5958897b814002b61"
      },
      "application/json": {
       "n": 0,
       "total": 9,
       "elapsed": 0.02257990837097168,
       "ncols": null,
       "nrows": null,
       "prefix": "",
       "ascii": false,
       "unit": "it",
       "unit_scale": false,
       "rate": null,
       "bar_format": null,
       "postfix": null,
       "unit_divisor": 1000,
       "initial": 0,
       "colour": null
      }
     },
     "metadata": {},
     "output_type": "display_data"
    }
   ],
   "source": [
    "from napari.settings import get_settings\n",
    "\n",
    "# if ipy_interactive is false, each viewer will wait before continuing\n",
    "# otherwise you'll immediately get 4 viewers.\n",
    "settings = get_settings()\n",
    "settings.application.ipy_interactive = False\n",
    "\n",
    "i=0\n",
    "viewer = napari.Viewer()\n",
    "for key, res in tqdm(results.items()):\n",
    "    viewer.add_image(res, name=key)\n",
    "napari.run()"
   ],
   "metadata": {
    "collapsed": false,
    "pycharm": {
     "name": "#%%\n"
    }
   }
  },
  {
   "cell_type": "code",
   "execution_count": null,
   "outputs": [],
   "source": [],
   "metadata": {
    "collapsed": false,
    "pycharm": {
     "name": "#%%\n"
    }
   }
  }
 ],
 "metadata": {
  "kernelspec": {
   "display_name": "Python 3",
   "language": "python",
   "name": "python3"
  },
  "language_info": {
   "codemirror_mode": {
    "name": "ipython",
    "version": 2
   },
   "file_extension": ".py",
   "mimetype": "text/x-python",
   "name": "python",
   "nbconvert_exporter": "python",
   "pygments_lexer": "ipython2",
   "version": "2.7.6"
  }
 },
 "nbformat": 4,
 "nbformat_minor": 0
}