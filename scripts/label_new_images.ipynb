{
 "cells": [
  {
   "cell_type": "code",
   "execution_count": 1,
   "metadata": {},
   "outputs": [],
   "source": [
    "import make_artefact_labels as mal\n",
    "import data_augmentation as da"
   ]
  },
  {
   "cell_type": "code",
   "execution_count": 5,
   "metadata": {},
   "outputs": [
    {
     "data": {
      "text/plain": [
       "<module 'data_augmentation' from 'd:\\\\ML\\\\ml-project-2-cellseg\\\\scripts\\\\data_augmentation.py'>"
      ]
     },
     "execution_count": 5,
     "metadata": {},
     "output_type": "execute_result"
    }
   ],
   "source": [
    "from importlib import reload\n",
    "reload(mal)\n",
    "reload(da)"
   ]
  },
  {
   "cell_type": "code",
   "execution_count": 29,
   "metadata": {},
   "outputs": [
    {
     "name": "stdout",
     "output_type": "stream",
     "text": [
      "(210, 475, 127)\n",
      "(210, 475, 127)\n",
      "start selecting artefacts by size n labels= 6162\n",
      "finish selecting artefacts by size\n",
      "(210, 475, 127)\n"
     ]
    }
   ],
   "source": [
    "mal.make_labels(\"../dataset/images_with_artefacts/cropped_crop_1.tif\", \"../test/prediction/labels_artefacts.tif\",2,500)"
   ]
  },
  {
   "cell_type": "code",
   "execution_count": 30,
   "metadata": {},
   "outputs": [],
   "source": [
    "mal.select_image_by_labels(\"../dataset/images_with_artefacts/cropped_crop_1.tif\", \"../test/prediction/labels_artefacts.tif\", \"../dataset/artefact/artefact_cropped_1.tif\", [30,779])"
   ]
  },
  {
   "cell_type": "code",
   "execution_count": 4,
   "metadata": {},
   "outputs": [],
   "source": [
    "mal.make_labels(\"../dataset/images_with_artefacts/cropped_crop_2.tif\", \"../test/prediction/labels_artefacts_2.tif\",1.5,250)"
   ]
  },
  {
   "cell_type": "code",
   "execution_count": 7,
   "metadata": {},
   "outputs": [],
   "source": [
    "mal.select_image_by_labels(\"../dataset/images_with_artefacts/cropped_crop_2.tif\", \"../test/prediction/labels_artefacts_2.tif\", \"../dataset/artefact/artefact_cropped_2.tif\", [503])"
   ]
  },
  {
   "cell_type": "code",
   "execution_count": null,
   "metadata": {},
   "outputs": [],
   "source": [
    "mal.make_labels(\"../dataset/images_with_artefacts/cropped_crop_4.tif\", \"../test/prediction/labels_artefacts_4.tif\",1.5,250)"
   ]
  },
  {
   "cell_type": "code",
   "execution_count": 8,
   "metadata": {},
   "outputs": [],
   "source": [
    "from scipy.ndimage import label\n",
    "import numpy as np\n",
    "labels=mal.imread(\"../test/prediction/labels_artefacts_4.tif\")\n",
    "str_3D = np.array([[[0, 0, 0],\n",
    "                    [0, 1, 0],\n",
    "                    [0, 0, 0]],\n",
    "\n",
    "                   [[0, 1, 0],\n",
    "                    [1, 1, 1],\n",
    "                    [0, 1, 0]],\n",
    "\n",
    "                   [[0, 0, 0],\n",
    "                    [0, 1, 0],\n",
    "                    [0, 0, 0]]], dtype='uint8')\n",
    "labels=label(labels, structure=str_3D)[0]\n",
    "mal.imwrite(\"../test/prediction/labels_artefacts_4.tif\", labels)"
   ]
  },
  {
   "cell_type": "code",
   "execution_count": 12,
   "metadata": {},
   "outputs": [],
   "source": [
    "mal.select_image_by_labels(\"../dataset/images_with_artefacts/cropped_crop_4.tif\", \"../test/prediction/labels_artefacts_4.tif\", \"../dataset/artefact/artefact_cropped_4_2.tif\", [8])"
   ]
  },
  {
   "cell_type": "code",
   "execution_count": 38,
   "metadata": {},
   "outputs": [],
   "source": [
    "mal.crop_image_path(\"../dataset/artefact/artefact_cropped_2.tif\", \"../dataset/artefact/artefact_cropped_2_crop.tif\")"
   ]
  },
  {
   "cell_type": "code",
   "execution_count": 4,
   "metadata": {},
   "outputs": [
    {
     "name": "stdout",
     "output_type": "stream",
     "text": [
      "Artefact added to image: ../dataset/somatomotor/volumes\\c1images.tif\n",
      "Artefact added to image: ../dataset/somatomotor/data_augmented\\c1images_with_artefact.tif\n",
      "Artefact added to image: ../dataset/somatomotor/data_augmented\\c1images_with_artefact.tif\n",
      "Artefact added to image: ../dataset/somatomotor/data_augmented\\c1images_with_artefact.tif\n",
      "Artefact added to image: ../dataset/somatomotor/data_augmented\\c1images_with_artefact.tif\n",
      "Artefact added to image: ../dataset/somatomotor/data_augmented\\c1images_with_artefact.tif\n",
      "Artefact added to image: ../dataset/somatomotor/volumes\\c2images.tif\n",
      "Artefact added to image: ../dataset/somatomotor/data_augmented\\c2images_with_artefact.tif\n",
      "Artefact added to image: ../dataset/somatomotor/data_augmented\\c2images_with_artefact.tif\n",
      "Artefact added to image: ../dataset/somatomotor/volumes\\c3images.tif\n",
      "Artefact added to image: ../dataset/somatomotor/data_augmented\\c3images_with_artefact.tif\n",
      "Artefact added to image: ../dataset/somatomotor/data_augmented\\c3images_with_artefact.tif\n",
      "Artefact added to image: ../dataset/somatomotor/data_augmented\\c3images_with_artefact.tif\n",
      "Artefact added to image: ../dataset/somatomotor/data_augmented\\c3images_with_artefact.tif\n",
      "Artefact added to image: ../dataset/somatomotor/data_augmented\\c3images_with_artefact.tif\n",
      "Artefact added to image: ../dataset/somatomotor/volumes\\c4images.tif\n",
      "Artefact added to image: ../dataset/somatomotor/data_augmented\\c4images_with_artefact.tif\n",
      "Artefact added to image: ../dataset/somatomotor/volumes\\c5images.tif\n",
      "Artefact added to image: ../dataset/somatomotor/data_augmented\\c5images_with_artefact.tif\n",
      "Artefact added to image: ../dataset/somatomotor/data_augmented\\c5images_with_artefact.tif\n",
      "Artefact added to image: ../dataset/somatomotor/data_augmented\\c5images_with_artefact.tif\n",
      "Artefact added to image: ../dataset/somatomotor/data_augmented\\c5images_with_artefact.tif\n",
      "Artefact added to image: ../dataset/somatomotor/data_augmented\\c5images_with_artefact.tif\n",
      "Artefact added to image: ../dataset/somatomotor/data_augmented\\c5images_with_artefact.tif\n"
     ]
    }
   ],
   "source": [
    "path_artefacts=[\"../dataset/artefact/artefact_cropped_1_crop.tif\", \"../dataset/artefact/artefact_cropped_2_crop.tif\", \"../dataset/artefact/artefact_cropped_4_2_crop.tif\", \"../dataset/artefact/artefact_cropped_4_1_crop.tif\",\"../dataset/artefact/artefact_cropped_2_crop.tif\", \"../dataset/artefact/artefact_cropped_4_2_crop.tif\", \"../dataset/artefact/artefact_cropped_4_1_crop.tif\"]\n",
    "folder_images=\"../dataset/somatomotor/volumes\"\n",
    "folder_labels=\"../dataset/somatomotor/labels\"\n",
    "path_out=\"../dataset/somatomotor/data_augmented\"\n",
    "da.add_artefacts_to_folder(folder_images,folder_labels,path_artefacts,path_out,min_x=200)"
   ]
  },
  {
   "cell_type": "code",
   "execution_count": null,
   "metadata": {},
   "outputs": [],
   "source": []
  }
 ],
 "metadata": {
  "kernelspec": {
   "display_name": "Python 3",
   "language": "python",
   "name": "python3"
  },
  "language_info": {
   "codemirror_mode": {
    "name": "ipython",
    "version": 3
   },
   "file_extension": ".py",
   "mimetype": "text/x-python",
   "name": "python",
   "nbconvert_exporter": "python",
   "pygments_lexer": "ipython3",
   "version": "3.8.15"
  },
  "orig_nbformat": 4,
  "vscode": {
   "interpreter": {
    "hash": "18e1deef659882ad12ee34364eeed819f7e5087d805315dbc0770e8765510015"
   }
  }
 },
 "nbformat": 4,
 "nbformat_minor": 2
}
