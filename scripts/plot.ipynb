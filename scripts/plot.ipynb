{
 "cells": [
  {
   "cell_type": "code",
   "execution_count": null,
   "outputs": [],
   "source": [
    "import matplotlib.pyplot as plt\n",
    "from skimage import io"
   ],
   "metadata": {
    "collapsed": false,
    "pycharm": {
     "name": "#%%\n"
    }
   }
  },
  {
   "cell_type": "code",
   "execution_count": null,
   "outputs": [],
   "source": [
    "p = plt.rcParams\n",
    "p[\"axes.axisbelow\"] = True\n",
    "p[\"axes.linewidth\"] = 1\n",
    "p[\"axes.facecolor\"] = \"#ffffff\"\n",
    "p[\"axes.ymargin\"] = 0.0\n",
    "\n",
    "p[\"axes.grid\"] = True\n",
    "p[\"axes.grid.axis\"] = \"x\"\n",
    "p[\"grid.color\"] = \"#999999\"\n",
    "p[\"grid.linestyle\"] = \"--\"\n",
    "\n",
    "p[\"axes.spines.bottom\"] = False\n",
    "p[\"axes.spines.left\"] = True\n",
    "p[\"axes.spines.right\"] = False\n",
    "p[\"axes.spines.top\"] = False\n",
    "p[\"font.sans-serif\"] = [\"Fira Sans Condensed\"]\n",
    "\n",
    "p[\"xtick.bottom\"] = True\n",
    "p[\"xtick.top\"] = False\n",
    "p[\"xtick.direction\"] = \"out\"\n",
    "p[\"xtick.major.size\"] = 0\n",
    "p[\"xtick.major.width\"] = 1\n",
    "p[\"xtick.major.pad\"] = 2\n",
    "\n",
    "p[\"ytick.left\"] = True\n",
    "p[\"ytick.right\"] = False\n",
    "p[\"ytick.direction\"] = \"out\"\n",
    "p[\"ytick.major.size\"] = 5\n",
    "p[\"ytick.major.width\"] = 1\n",
    "\n",
    "\n",
    "p[\"lines.linewidth\"] = 2\n",
    "p[\"lines.marker\"] = \"o\"\n",
    "p[\"lines.markeredgewidth\"] = 1.5\n",
    "p[\"lines.markeredgecolor\"] = \"auto\"\n",
    "p[\"lines.markerfacecolor\"] = \"white\"\n",
    "p[\"lines.markersize\"] = 6"
   ],
   "metadata": {
    "collapsed": false,
    "pycharm": {
     "name": "#%%\n"
    }
   }
  },
  {
   "cell_type": "markdown",
   "source": [
    "# Import data"
   ],
   "metadata": {
    "collapsed": false,
    "pycharm": {
     "name": "#%% md\n"
    }
   }
  },
  {
   "cell_type": "code",
   "execution_count": null,
   "outputs": [],
   "source": [
    "pred_path = \"/home/maximevidal/Documents/cell-segmentation-models/results/predicted-images/Prediction_1_c5images_Swin_2022_06_28_00_00_06_.tif\"\n",
    "y_pred = io.imread(pred_path)\n",
    "y_pred = y_pred >= 0.294\n",
    "\n",
    "true_path = \"/home/maximevidal/Documents/cell-segmentation-models/data/validation_labels_semantic/c5labels.tif\"\n",
    "y_true = io.imread(true_path)"
   ],
   "metadata": {
    "collapsed": false,
    "pycharm": {
     "name": "#%%\n"
    }
   }
  },
  {
   "cell_type": "markdown",
   "source": [
    "# 3D Semantic Prediction"
   ],
   "metadata": {
    "collapsed": false,
    "pycharm": {
     "name": "#%% md\n"
    }
   }
  },
  {
   "cell_type": "code",
   "execution_count": null,
   "outputs": [],
   "source": [
    "z, x, y = y_pred.nonzero()\n",
    "fig = plt.figure(figsize=(10,20))\n",
    "\n",
    "ax = fig.add_subplot(121,projection='3d', azim=-20, title=\"Prediction\")\n",
    "ax.scatter3D(x, y, z, c=z, alpha=1)\n",
    "\n",
    "\n",
    "z, x, y = y_true.nonzero()\n",
    "ax = fig.add_subplot(122,projection='3d', azim= -20, title=\"Ground Truth\")\n",
    "ax.scatter3D(x, y, z, c=z, alpha=0.2)"
   ],
   "metadata": {
    "collapsed": false,
    "pycharm": {
     "name": "#%%\n"
    }
   }
  },
  {
   "cell_type": "markdown",
   "source": [
    "# 2D Semantic Prediction"
   ],
   "metadata": {
    "collapsed": false,
    "pycharm": {
     "name": "#%% md\n"
    }
   }
  },
  {
   "cell_type": "code",
   "execution_count": null,
   "outputs": [],
   "source": [
    "img = io.imread(\"/home/maximevidal/Documents/cell-segmentation-models/data/volumes/c5images.tif\")"
   ],
   "metadata": {
    "collapsed": false,
    "pycharm": {
     "name": "#%%\n"
    }
   }
  },
  {
   "cell_type": "code",
   "execution_count": null,
   "outputs": [],
   "source": [
    "plt.figure(\"check\", (12, 12))\n",
    "nrows, ncols = 3, 3\n",
    "\n",
    "#X\n",
    "plt.subplot(3, 3, 1)\n",
    "plt.text(\n",
    "    -20,\n",
    "    36,\n",
    "    \"XY\",\n",
    "    family=\"Roboto Condensed\",\n",
    "    horizontalalignment=\"right\",\n",
    "    verticalalignment=\"top\",\n",
    "    fontsize=18\n",
    ")\n",
    "\n",
    "plt.text(\n",
    "    -20,\n",
    "    152,\n",
    "    \"YZ\",\n",
    "    family=\"Roboto Condensed\",\n",
    "    horizontalalignment=\"right\",\n",
    "    verticalalignment=\"top\",\n",
    "    fontsize=18\n",
    ")\n",
    "\n",
    "plt.text(\n",
    "    -20,\n",
    "    260,\n",
    "    \"XZ\",\n",
    "    family=\"Roboto Condensed\",\n",
    "    horizontalalignment=\"right\",\n",
    "    verticalalignment=\"top\",\n",
    "    fontsize=18\n",
    ")\n",
    "plt.title(\"Image\")\n",
    "plt.imshow(img[300, :, :], cmap=\"gray\")\n",
    "plt.subplot(3, 3, 2)\n",
    "plt.title(\"Ground Truth\")\n",
    "plt.imshow(y_true[300, :, :], cmap=\"cividis\")\n",
    "plt.subplot(3, 3, 3)\n",
    "plt.title(\"Prediction\")\n",
    "plt.imshow(y_pred[300, :, :], cmap=\"cividis\")\n",
    "\n",
    "#Y\n",
    "plt.subplot(3, 3, 4)\n",
    "plt.imshow(img[:, 40, :], cmap=\"gray\")\n",
    "plt.subplot(3, 3, 5)\n",
    "plt.imshow(y_true[:, 40, :], cmap=\"cividis\")\n",
    "plt.subplot(3, 3, 6)\n",
    "plt.imshow(y_pred[:, 40, :], cmap=\"cividis\")\n",
    "\n",
    "#Z\n",
    "plt.subplot(3, 3, 7)\n",
    "plt.imshow(y_true[:, :, 40], cmap=\"gray\")\n",
    "plt.subplot(3, 3, 8)\n",
    "plt.imshow(y_true[:, :, 40], cmap=\"cividis\")\n",
    "plt.subplot(3, 3, 9)\n",
    "plt.imshow(y_true[:, :, 40], cmap=\"cividis\")"
   ],
   "metadata": {
    "collapsed": false,
    "pycharm": {
     "name": "#%%\n"
    }
   }
  },
  {
   "cell_type": "markdown",
   "source": [
    "# Matched Cells"
   ],
   "metadata": {
    "collapsed": false,
    "pycharm": {
     "name": "#%% md\n"
    }
   }
  },
  {
   "cell_type": "code",
   "execution_count": null,
   "outputs": [],
   "source": [
    "matched_bug = io.imread(\"/home/maximevidal/Documents/cell-segmentation-models/results/predicted-images/matched_celledge3.tif\")\n",
    "matched = io.imread(\"/home/maximevidal/Documents/cell-segmentation-models/results/predicted-images/matched_celledge4.tif\")"
   ],
   "metadata": {
    "collapsed": false,
    "pycharm": {
     "name": "#%%\n"
    }
   }
  },
  {
   "cell_type": "code",
   "execution_count": null,
   "outputs": [],
   "source": [
    "z, x, y = (matched_bug==1).nonzero()\n",
    "fig = plt.figure(figsize=(10,20))\n",
    "ax = fig.add_subplot(121,projection='3d', azim=-20, title=\"Matching with duplicated instances\")\n",
    "ax.scatter(x, y, z, cmap=\"tab20b\", label=\"not matched\", alpha=1)\n",
    "z, x, y = (matched_bug==2).nonzero()\n",
    "ax.scatter(x, y, z, cmap=\"green\",  label=\"matched\", alpha=1)\n",
    "ax.legend(loc=\"upper right\", bbox_to_anchor=(1.3,0))\n",
    "\n",
    "\n",
    "z, x, y = (matched==1).nonzero()\n",
    "colors = matched[z,x,y]\n",
    "ax = fig.add_subplot(122,projection='3d', azim= -20, title=\"Matching with unique instances\")\n",
    "ax.scatter(x, y, z, cmap=\"tab20b\", alpha=1)\n",
    "z, x, y = (matched==2).nonzero()\n",
    "ax.scatter(x, y, z, cmap=\"blue\", alpha=1)"
   ],
   "metadata": {
    "collapsed": false,
    "pycharm": {
     "name": "#%%\n"
    }
   }
  },
  {
   "cell_type": "markdown",
   "source": [
    "# 3D Instance Segmentation"
   ],
   "metadata": {
    "collapsed": false,
    "pycharm": {
     "name": "#%% md\n"
    }
   }
  },
  {
   "cell_type": "code",
   "execution_count": null,
   "outputs": [],
   "source": [
    "pred_path = \"/home/maximevidal/Documents/cell-segmentation-models/results/predicted-images/instance_swinedge.tif\"\n",
    "y_pred = io.imread(pred_path)\n",
    "\n",
    "true_path = \"/home/maximevidal/Documents/cell-segmentation-models/data/validation_new_labels/c5labels.tif\"\n",
    "y_true = io.imread(true_path)"
   ],
   "metadata": {
    "collapsed": false,
    "pycharm": {
     "name": "#%%\n"
    }
   }
  },
  {
   "cell_type": "code",
   "execution_count": null,
   "outputs": [],
   "source": [
    "z, x, y = y_pred.nonzero()\n",
    "colors_pred = y_pred[z,x,y]\n",
    "\n",
    "fig = plt.figure(figsize=(6,6))\n",
    "ax = fig.add_subplot(111,projection='3d', azim=-20, title=\"Prediction\")\n",
    "ax.scatter(x, y, z, c=colors_pred, cmap=\"hsv\", alpha=1)\n",
    "\n",
    "#z, x, y = y_true.nonzero()\n",
    "#colors_true = y_true[z,x,y]\n",
    "#ax = fig.add_subplot(122,projection='3d', azim= -20, title=\"Ground Truth\")\n",
    "#ax.scatter(x, y, z, c=colors_true, cmap=\"hsv\", alpha=1)"
   ],
   "metadata": {
    "collapsed": false,
    "pycharm": {
     "name": "#%%\n"
    }
   }
  }
 ],
 "metadata": {
  "colab": {
   "collapsed_sections": [],
   "name": "Plot.ipynb",
   "provenance": []
  },
  "kernelspec": {
   "display_name": "Python 3 (ipykernel)",
   "language": "python",
   "name": "python3"
  },
  "language_info": {
   "codemirror_mode": {
    "name": "ipython",
    "version": 3
   },
   "file_extension": ".py",
   "mimetype": "text/x-python",
   "name": "python",
   "nbconvert_exporter": "python",
   "pygments_lexer": "ipython3",
   "version": "3.8.13"
  }
 },
 "nbformat": 4,
 "nbformat_minor": 1
}