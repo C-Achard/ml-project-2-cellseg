{
 "cells": [
  {
   "attachments": {},
   "cell_type": "markdown",
   "metadata": {},
   "source": [
    "In this notebook you can find how the artifacts where found in the brain and how they where isolated from the rest of the images and added on top of the labelled images."
   ]
  },
  {
   "cell_type": "code",
   "execution_count": 12,
   "metadata": {},
   "outputs": [],
   "source": [
    "import sys\n",
    "sys.path.append('../label/')\n",
    "import make_artefact_labels as mal\n",
    "import data_augmentation as da\n",
    "import napari\n",
    "import tifffile as tiff"
   ]
  },
  {
   "cell_type": "code",
   "execution_count": 3,
   "metadata": {},
   "outputs": [
    {
     "data": {
      "text/plain": [
       "<module 'data_augmentation' from 'd:\\\\ML\\\\ml-project-2-cellseg\\\\data_augmentation\\\\data_augmentation.py'>"
      ]
     },
     "execution_count": 3,
     "metadata": {},
     "output_type": "execute_result"
    }
   ],
   "source": [
    "from importlib import reload\n",
    "reload(mal)\n",
    "reload(da)"
   ]
  },
  {
   "cell_type": "code",
   "execution_count": 5,
   "metadata": {},
   "outputs": [],
   "source": [
    "import os\n",
    "os.makedirs(\"../test/\", exist_ok=True)"
   ]
  },
  {
   "cell_type": "code",
   "execution_count": 21,
   "metadata": {},
   "outputs": [],
   "source": [
    "mal.make_labels(\"../dataset_clean/images_with_artefacts/cropped_crop_1.tif\", \"../test/prediction/labels_artefacts.tif\",2,500,use_watershed=False)"
   ]
  },
  {
   "cell_type": "code",
   "execution_count": 22,
   "metadata": {},
   "outputs": [],
   "source": [
    "viewer = napari.Viewer(ndisplay=3)\n",
    "viewer.add_labels(tiff.imread(\"../test/prediction/labels_artefacts.tif\"))\n",
    "napari.run()"
   ]
  },
  {
   "cell_type": "code",
   "execution_count": 23,
   "metadata": {},
   "outputs": [],
   "source": [
    "#here you should visualize the labels with napari and select the one that you want to use, I selected 30 and 779\n",
    "mal.select_image_by_labels(\"../dataset_clean/images_with_artefacts/cropped_crop_1.tif\", \"../test/prediction/labels_artefacts.tif\", \"../dataset_clean/artefacts/artefact_cropped_1.tif\", [30,779])"
   ]
  },
  {
   "cell_type": "code",
   "execution_count": 16,
   "metadata": {},
   "outputs": [],
   "source": [
    "mal.make_labels(\"../dataset_clean/images_with_artefacts/cropped_crop_2.tif\", \"../test/prediction/labels_artefacts_2.tif\",1.5,250,use_watershed=False)"
   ]
  },
  {
   "cell_type": "code",
   "execution_count": 17,
   "metadata": {},
   "outputs": [],
   "source": [
    "viewer = napari.Viewer(ndisplay=3)\n",
    "viewer.add_labels(tiff.imread(\"../test/prediction/labels_artefacts_2.tif\"))\n",
    "napari.run()"
   ]
  },
  {
   "cell_type": "code",
   "execution_count": 18,
   "metadata": {},
   "outputs": [],
   "source": [
    "#here you should visualize the labels with napari and select the one that you want to use, I selected 503\n",
    "mal.select_image_by_labels(\"../dataset_clean/images_with_artefacts/cropped_crop_2.tif\", \"../test/prediction/labels_artefacts_2.tif\", \"../dataset_clean/artefacts/artefact_cropped_2.tif\", [503])"
   ]
  },
  {
   "cell_type": "code",
   "execution_count": 19,
   "metadata": {},
   "outputs": [],
   "source": [
    "mal.make_labels(\"../dataset_clean/images_with_artefacts/cropped_crop_4.tif\", \"../test/prediction/labels_artefacts_4.tif\",1.5,250,use_watershed=False)"
   ]
  },
  {
   "cell_type": "code",
   "execution_count": 8,
   "metadata": {},
   "outputs": [],
   "source": [
    "#for this one I had to use napari to remove some parts of the labels to keep only the artifacts therefore i commented the line that correspond to these artifacts\n",
    "from scipy.ndimage import label\n",
    "import numpy as np\n",
    "labels=mal.imread(\"../test/prediction/labels_artefacts_4.tif\")\n",
    "str_3D = np.array([[[0, 0, 0],\n",
    "                    [0, 1, 0],\n",
    "                    [0, 0, 0]],\n",
    "\n",
    "                   [[0, 1, 0],\n",
    "                    [1, 1, 1],\n",
    "                    [0, 1, 0]],\n",
    "\n",
    "                   [[0, 0, 0],\n",
    "                    [0, 1, 0],\n",
    "                    [0, 0, 0]]], dtype='uint8')\n",
    "labels=label(labels, structure=str_3D)[0]\n",
    "mal.imwrite(\"../test/prediction/labels_artefacts_4.tif\", labels)"
   ]
  },
  {
   "cell_type": "code",
   "execution_count": 12,
   "metadata": {},
   "outputs": [],
   "source": [
    "#mal.select_image_by_labels(\"../dataset_clean/images_with_artefacts/cropped_crop_4.tif\", \"../test/prediction/labels_artefacts_4.tif\", \"../dataset_clean/artefacts/artefact_cropped_4_2.tif\", [8])"
   ]
  },
  {
   "cell_type": "code",
   "execution_count": 24,
   "metadata": {},
   "outputs": [],
   "source": [
    "#here you only keep the smallest rectangle that contains the artifact\n",
    "#mal.crop_image_path(\"../dataset_clean/artefact/artefact_cropped_4_2.tif\", \"../dataset_clean/artefact/artefact_cropped_4_2_crop.tif\")\n",
    "#mal.crop_image_path(\"../dataset_clean/artefact/artefact_cropped_4_1.tif\", \"../dataset_clean/artefact/artefact_cropped_4_1_crop.tif\")\n",
    "mal.crop_image_path(\"../dataset_clean/artefacts/artefact_cropped_2.tif\", \"../dataset_clean/artefacts/artefact_cropped_2_crop.tif\")\n",
    "mal.crop_image_path(\"../dataset_clean/artefacts/artefact_cropped_1.tif\", \"../dataset_clean/artefacts/artefact_cropped_1_crop.tif\")"
   ]
  },
  {
   "cell_type": "code",
   "execution_count": 27,
   "metadata": {},
   "outputs": [
    {
     "name": "stdout",
     "output_type": "stream",
     "text": [
      "Artefact added to image: ../dataset_clean/somatomotor/volumes\\c1images.tif\n",
      "Artefact added to image: ../dataset_clean/somatomotor/volumes\\c2images.tif\n",
      "Artefact added to image: ../dataset_clean/somatomotor/volumes\\c3images.tif\n",
      "Artefact added to image: ../dataset_clean/somatomotor/augmented_volumes\\c3images_with_artefact.tif\n",
      "Artefact added to image: ../dataset_clean/somatomotor/augmented_volumes\\c3images_with_artefact.tif\n",
      "Artefact added to image: ../dataset_clean/somatomotor/volumes\\c4images.tif\n",
      "Artefact added to image: ../dataset_clean/somatomotor/augmented_volumes\\c4images_with_artefact.tif\n",
      "Artefact added to image: ../dataset_clean/somatomotor/augmented_volumes\\c4images_with_artefact.tif\n",
      "Artefact added to image: ../dataset_clean/somatomotor/volumes\\c5images.tif\n",
      "Artefact added to image: ../dataset_clean/somatomotor/augmented_volumes\\c5images_with_artefact.tif\n",
      "Artefact added to image: ../dataset_clean/somatomotor/augmented_volumes\\c5images_with_artefact.tif\n",
      "Artefact added to image: ../dataset_clean/somatomotor/augmented_volumes\\c5images_with_artefact.tif\n",
      "Artefact added to image: ../dataset_clean/somatomotor/augmented_volumes\\c5images_with_artefact.tif\n",
      "Artefact added to image: ../dataset_clean/somatomotor/augmented_volumes\\c5images_with_artefact.tif\n",
      "Artefact added to image: ../dataset_clean/somatomotor/augmented_volumes\\c5images_with_artefact.tif\n"
     ]
    }
   ],
   "source": [
    "#since we had an artifact that was more representative of the artefact we had in the dataset, we decided to use it mulitple times\n",
    "path_artefacts=[\"../dataset_clean/artefacts/artefact_cropped_1_crop.tif\", \"../dataset_clean/artefacts/artefact_cropped_2_crop.tif\", \"../dataset_clean/artefacts/artefact_cropped_4_2_crop.tif\", \"../dataset_clean/artefacts/artefact_cropped_4_1_crop.tif\",\"../dataset_clean/artefacts/artefact_cropped_2_crop.tif\", \"../dataset_clean/artefacts/artefact_cropped_4_2_crop.tif\", \"../dataset_clean/artefacts/artefact_cropped_4_1_crop.tif\"]\n",
    "folder_images=\"../dataset_clean/somatomotor/volumes\"\n",
    "folder_labels=\"../dataset_clean/somatomotor/labels\"\n",
    "path_out=\"../dataset_clean/somatomotor/augmented_volumes\"\n",
    "da.add_artefacts_to_folder(folder_images,folder_labels,path_artefacts,path_out,min_x=200)"
   ]
  },
  {
   "cell_type": "code",
   "execution_count": 29,
   "metadata": {},
   "outputs": [],
   "source": [
    "viewer = napari.Viewer(ndisplay=3)\n",
    "viewer.add_image(tiff.imread(\"../dataset_clean/somatomotor/augmented_volumes\\c1images_with_artefact.tif\"),name=\"c1images_with_artefact\")\n",
    "viewer.add_image(tiff.imread(\"../dataset_clean/somatomotor/augmented_volumes\\c2images_with_artefact.tif\"),name=\"c2images_with_artefact\")\n",
    "viewer.add_image(tiff.imread(\"../dataset_clean/somatomotor/augmented_volumes\\c3images_with_artefact.tif\"),name=\"c3images_with_artefact\")\n",
    "viewer.add_image(tiff.imread(\"../dataset_clean/somatomotor/augmented_volumes\\c4images_with_artefact.tif\"),name=\"c4images_with_artefact\")\n",
    "viewer.add_image(tiff.imread(\"../dataset_clean/somatomotor/augmented_volumes\\c5images_with_artefact.tif\"),name=\"c5images_with_artefact\")\n",
    "napari.run()"
   ]
  }
 ],
 "metadata": {
  "kernelspec": {
   "display_name": "Python 3",
   "language": "python",
   "name": "python3"
  },
  "language_info": {
   "codemirror_mode": {
    "name": "ipython",
    "version": 3
   },
   "file_extension": ".py",
   "mimetype": "text/x-python",
   "name": "python",
   "nbconvert_exporter": "python",
   "pygments_lexer": "ipython3",
   "version": "3.8.15"
  },
  "orig_nbformat": 4,
  "vscode": {
   "interpreter": {
    "hash": "18e1deef659882ad12ee34364eeed819f7e5087d805315dbc0770e8765510015"
   }
  }
 },
 "nbformat": 4,
 "nbformat_minor": 2
}
